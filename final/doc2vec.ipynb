{
 "cells": [
  {
   "cell_type": "markdown",
   "metadata": {},
   "source": [
    "# Text-Based Firm Similarity Based on Edgar 10-K Report"
   ]
  },
  {
   "cell_type": "code",
   "execution_count": 1,
   "metadata": {},
   "outputs": [],
   "source": [
    "import pandas as pd"
   ]
  },
  {
   "cell_type": "markdown",
   "metadata": {},
   "source": [
    "## visualization of intermediate process"
   ]
  },
  {
   "cell_type": "markdown",
   "metadata": {},
   "source": [
    "First the raw data is formatted by tags, like `HTML`, so in the raw text the string is not only the content but tags like `<something></something>`. We need to filter out these things."
   ]
  },
  {
   "cell_type": "code",
   "execution_count": 4,
   "metadata": {
    "scrolled": false
   },
   "outputs": [
    {
     "name": "stdout",
     "output_type": "stream",
     "text": [
      "<SEC-DOCUMENT>0000320193-20-000096.txt : 20201030\n",
      "<SEC-HEADER>0000320193-20-000096.hdr.sgml : 20201030\n",
      "<ACCEPTANCE-DATETIME>20201029180625\n",
      "ACCESSION NUMBER:\t\t0000320193-20-000096\n",
      "CONFORMED SUBMISSION TYPE:\t10-K\n",
      "PUBLIC DOCUMENT COUNT:\t\t99\n",
      "CONFORMED PERIOD OF REPORT:\t20200926\n",
      "FILED AS OF DATE:\t\t20201030\n",
      "DATE AS OF CHANGE:\t\t20201029\n",
      "\n",
      "FILER:\n",
      "\n",
      "\tCOMPANY DATA:\t\n",
      "\t\tCOMPANY CONFORMED NAME:\t\t\tApple Inc.\n",
      "\t\tCENTRAL INDEX KEY:\t\t\t0000320193\n",
      "\t\tSTANDARD INDUSTRIAL CLASSIFICATION:\tELECTRONIC COMPUTERS [3571]\n",
      "\t\tIR\n"
     ]
    }
   ],
   "source": [
    "with open('aapl_raw.txt') as f:\n",
    "    print(f.read()[:500])"
   ]
  },
  {
   "cell_type": "markdown",
   "metadata": {},
   "source": [
    "After the filtering (**parse**) process, we can get the \"pure\" string of content, especially the business sector content, which is really what we need. Also, we want to abondon the financial statements data (only number, not contributed much to our analysis)."
   ]
  },
  {
   "cell_type": "code",
   "execution_count": 5,
   "metadata": {},
   "outputs": [
    {
     "name": "stdout",
     "output_type": "stream",
     "text": [
      "The following discussion of risk factors contains forward-looking statements. These risk factors may be important to understanding other statements in this Form 10-K. The following information should be read in conjunction with Part II, Item 7, “Management’s Discussion and Analysis of Financial Condition and Results of Operations” and the consolidated financial statements and accompanying notes in Part II, Item 8, “Financial Statements and Supplementary Data” of this Form 10-K.\n",
      "\n",
      "The business, fi\n"
     ]
    }
   ],
   "source": [
    "with open('aapl.txt') as f:\n",
    "    print(f.read()[:500])"
   ]
  },
  {
   "cell_type": "code",
   "execution_count": 6,
   "metadata": {},
   "outputs": [],
   "source": [
    "doc = pd.read_feather('doc.feather')[['document', 'tic']]"
   ]
  },
  {
   "cell_type": "markdown",
   "metadata": {},
   "source": [
    "let's see the example of *Apple*. ( divided words )"
   ]
  },
  {
   "cell_type": "code",
   "execution_count": 7,
   "metadata": {},
   "outputs": [
    {
     "data": {
      "text/plain": [
       "3155"
      ]
     },
     "execution_count": 7,
     "metadata": {},
     "output_type": "execute_result"
    }
   ],
   "source": [
    "aapl_word = doc.loc[doc.tic == 'AAPL'].document.values.tolist()[0]\n",
    "len(aapl_word)"
   ]
  },
  {
   "cell_type": "code",
   "execution_count": 8,
   "metadata": {
    "scrolled": true
   },
   "outputs": [
    {
     "data": {
      "text/plain": [
       "'Item Risk Factors discussion risk factors statements risk factors statements K information conjunction Part II Item Management Discussion Analysis Financial Condition Results Operations statements notes Part II Item Financial Statements Supplementary Data Form K business condition results Company number factors Company condition results future condition results factors part Company business condition results stock price factors factors Company condition results performance indicator performance '"
      ]
     },
     "execution_count": 8,
     "metadata": {},
     "output_type": "execute_result"
    }
   ],
   "source": [
    "' '.join(aapl_word)[:500]"
   ]
  },
  {
   "cell_type": "code",
   "execution_count": 9,
   "metadata": {},
   "outputs": [
    {
     "data": {
      "text/html": [
       "<div>\n",
       "<style scoped>\n",
       "    .dataframe tbody tr th:only-of-type {\n",
       "        vertical-align: middle;\n",
       "    }\n",
       "\n",
       "    .dataframe tbody tr th {\n",
       "        vertical-align: top;\n",
       "    }\n",
       "\n",
       "    .dataframe thead th {\n",
       "        text-align: right;\n",
       "    }\n",
       "</style>\n",
       "<table border=\"1\" class=\"dataframe\">\n",
       "  <thead>\n",
       "    <tr style=\"text-align: right;\">\n",
       "      <th></th>\n",
       "      <th>document</th>\n",
       "      <th>tic</th>\n",
       "    </tr>\n",
       "  </thead>\n",
       "  <tbody>\n",
       "    <tr>\n",
       "      <th>0</th>\n",
       "      <td>[Item, Risk, Factors, Risks, Factors, Company,...</td>\n",
       "      <td>A</td>\n",
       "    </tr>\n",
       "    <tr>\n",
       "      <th>1</th>\n",
       "      <td>[Item, Risk, Factors, Alcoa, business, conditi...</td>\n",
       "      <td>AA</td>\n",
       "    </tr>\n",
       "    <tr>\n",
       "      <th>2</th>\n",
       "      <td>[Item, Ris, k, Factors, risk, factors, informa...</td>\n",
       "      <td>AADI</td>\n",
       "    </tr>\n",
       "    <tr>\n",
       "      <th>3</th>\n",
       "      <td>[ITEM, RI, SK, FACTORS, Investing, company, ri...</td>\n",
       "      <td>AAIC</td>\n",
       "    </tr>\n",
       "    <tr>\n",
       "      <th>4</th>\n",
       "      <td>[ITEM, RI, SK, FACTORS, Investing, company, ri...</td>\n",
       "      <td>AAIN</td>\n",
       "    </tr>\n",
       "    <tr>\n",
       "      <th>...</th>\n",
       "      <td>...</td>\n",
       "      <td>...</td>\n",
       "    </tr>\n",
       "    <tr>\n",
       "      <th>1816</th>\n",
       "      <td>[Item, Risk, Factors, risks, report, ones, bus...</td>\n",
       "      <td>LBRDK</td>\n",
       "    </tr>\n",
       "    <tr>\n",
       "      <th>1817</th>\n",
       "      <td>[Item, Risk, Factors, risks, report, ones, bus...</td>\n",
       "      <td>LBRDP</td>\n",
       "    </tr>\n",
       "    <tr>\n",
       "      <th>1818</th>\n",
       "      <td>[Item, Risk, Factors, risks, apply, business, ...</td>\n",
       "      <td>LBRT</td>\n",
       "    </tr>\n",
       "    <tr>\n",
       "      <th>1819</th>\n",
       "      <td>[Item, Risk, Factors, discussion, sets, risk, ...</td>\n",
       "      <td>LEU</td>\n",
       "    </tr>\n",
       "    <tr>\n",
       "      <th>1820</th>\n",
       "      <td>[Item, Risk, Factors, investment, shares, stoc...</td>\n",
       "      <td>LJPC</td>\n",
       "    </tr>\n",
       "  </tbody>\n",
       "</table>\n",
       "<p>1821 rows × 2 columns</p>\n",
       "</div>"
      ],
      "text/plain": [
       "                                               document    tic\n",
       "0     [Item, Risk, Factors, Risks, Factors, Company,...      A\n",
       "1     [Item, Risk, Factors, Alcoa, business, conditi...     AA\n",
       "2     [Item, Ris, k, Factors, risk, factors, informa...   AADI\n",
       "3     [ITEM, RI, SK, FACTORS, Investing, company, ri...   AAIC\n",
       "4     [ITEM, RI, SK, FACTORS, Investing, company, ri...   AAIN\n",
       "...                                                 ...    ...\n",
       "1816  [Item, Risk, Factors, risks, report, ones, bus...  LBRDK\n",
       "1817  [Item, Risk, Factors, risks, report, ones, bus...  LBRDP\n",
       "1818  [Item, Risk, Factors, risks, apply, business, ...   LBRT\n",
       "1819  [Item, Risk, Factors, discussion, sets, risk, ...    LEU\n",
       "1820  [Item, Risk, Factors, investment, shares, stoc...   LJPC\n",
       "\n",
       "[1821 rows x 2 columns]"
      ]
     },
     "execution_count": 9,
     "metadata": {},
     "output_type": "execute_result"
    }
   ],
   "source": [
    "doc"
   ]
  },
  {
   "cell_type": "markdown",
   "metadata": {},
   "source": [
    "## remove common words (test)"
   ]
  },
  {
   "cell_type": "markdown",
   "metadata": {},
   "source": [
    "We just try this step, but it is not easy to figure out the definition of **common words**. \n",
    "\n",
    "- the number of apperance in one documnet is counted as one time (`count_words`)\n",
    "\n",
    "- or the total number of the words (`all_words`)\n",
    "\n",
    "The following just to show the idea."
   ]
  },
  {
   "cell_type": "code",
   "execution_count": 23,
   "metadata": {},
   "outputs": [],
   "source": [
    "all_words = []\n",
    "count_words = []\n",
    "\n",
    "for document in doc['document']:\n",
    "    count_list = []\n",
    "    for word in document:\n",
    "        all_words.append(word)\n",
    "        count_list.append(word)\n",
    "    count_words += list(set(count_list))"
   ]
  },
  {
   "cell_type": "code",
   "execution_count": 24,
   "metadata": {},
   "outputs": [
    {
     "data": {
      "text/plain": [
       "(6590504, 1454486)"
      ]
     },
     "execution_count": 24,
     "metadata": {},
     "output_type": "execute_result"
    }
   ],
   "source": [
    "len(all_words), len(count_words)"
   ]
  },
  {
   "cell_type": "code",
   "execution_count": 29,
   "metadata": {
    "scrolled": true
   },
   "outputs": [
    {
     "name": "stdout",
     "output_type": "stream",
     "text": [
      "39334 \n",
      "\n",
      "\n",
      "[('business', 121029), ('operations', 71860), ('products', 67217), ('product', 63866), ('results', 61296), ('ability', 55168), ('stock', 49160), ('market', 47110), ('laws', 36587), ('addition', 36046)] \n",
      "\n",
      "\n",
      "count     39334.000000\n",
      "mean        167.552347\n",
      "std        1568.907172\n",
      "min           1.000000\n",
      "25%           1.000000\n",
      "50%           3.000000\n",
      "75%          16.000000\n",
      "max      121029.000000\n",
      "dtype: float64 \n",
      "\n",
      "\n"
     ]
    }
   ],
   "source": [
    "from collections import Counter\n",
    "\n",
    "counter = Counter(all_words)\n",
    "print(len(counter), '\\n\\n')\n",
    "print(counter.most_common(10), '\\n\\n')\n",
    "print(pd.Series(counter).describe(), '\\n\\n')"
   ]
  },
  {
   "cell_type": "code",
   "execution_count": 30,
   "metadata": {},
   "outputs": [
    {
     "name": "stdout",
     "output_type": "stream",
     "text": [
      "39334 \n",
      "\n",
      "\n",
      "[('information', 1429), ('operations', 1426), ('business', 1425), ('results', 1425), ('ability', 1423), ('effect', 1419), ('addition', 1418), ('changes', 1418), ('Item', 1418), ('risks', 1417)] \n",
      "\n",
      "\n",
      "count    39334.000000\n",
      "mean        36.977831\n",
      "std        144.828437\n",
      "min          1.000000\n",
      "25%          1.000000\n",
      "50%          2.000000\n",
      "75%          7.000000\n",
      "max       1429.000000\n",
      "dtype: float64 \n",
      "\n",
      "\n"
     ]
    }
   ],
   "source": [
    "counter = Counter(count_words)\n",
    "print(len(counter), '\\n\\n')\n",
    "print(counter.most_common(10), '\\n\\n')\n",
    "print(pd.Series(counter).describe(), '\\n\\n')"
   ]
  },
  {
   "cell_type": "markdown",
   "metadata": {},
   "source": [
    "## doc2vec"
   ]
  },
  {
   "cell_type": "code",
   "execution_count": 14,
   "metadata": {},
   "outputs": [],
   "source": [
    "from gensim.models.doc2vec import Doc2Vec, TaggedDocument"
   ]
  },
  {
   "cell_type": "code",
   "execution_count": 15,
   "metadata": {},
   "outputs": [
    {
     "data": {
      "text/plain": [
       "1821"
      ]
     },
     "execution_count": 15,
     "metadata": {},
     "output_type": "execute_result"
    }
   ],
   "source": [
    "len(doc['document'].values)"
   ]
  },
  {
   "cell_type": "markdown",
   "metadata": {},
   "source": [
    "tag the words"
   ]
  },
  {
   "cell_type": "code",
   "execution_count": 16,
   "metadata": {},
   "outputs": [],
   "source": [
    "tagged_list = []\n",
    "\n",
    "for i, text in enumerate(doc['document'].values):\n",
    "    tagged = TaggedDocument(text, tags=[i])\n",
    "    tagged_list.append(tagged)"
   ]
  },
  {
   "cell_type": "markdown",
   "metadata": {},
   "source": [
    "train the model"
   ]
  },
  {
   "cell_type": "code",
   "execution_count": 17,
   "metadata": {},
   "outputs": [],
   "source": [
    "model = Doc2Vec(tagged_list)"
   ]
  },
  {
   "cell_type": "code",
   "execution_count": 18,
   "metadata": {},
   "outputs": [],
   "source": [
    "model.train(tagged_list, total_examples = model.corpus_count, epochs = 10)"
   ]
  },
  {
   "cell_type": "markdown",
   "metadata": {},
   "source": [
    "## perceptual verification"
   ]
  },
  {
   "cell_type": "code",
   "execution_count": 101,
   "metadata": {},
   "outputs": [],
   "source": [
    "aapl_word = doc.loc[doc.tic == 'AAPL'].document.values.tolist()[0]\n",
    "fb_word = doc.loc[doc.tic == 'FB'].document.values.tolist()[0]"
   ]
  },
  {
   "cell_type": "code",
   "execution_count": 102,
   "metadata": {},
   "outputs": [],
   "source": [
    "aapl_vec = model.infer_vector(aapl_word)\n",
    "fb_vec = model.infer_vector(fb_word)"
   ]
  },
  {
   "cell_type": "code",
   "execution_count": 103,
   "metadata": {},
   "outputs": [
    {
     "data": {
      "text/plain": [
       "array([ 0.9080916 , -0.8299222 ,  1.376746  ,  3.0427096 ,  0.11979463,\n",
       "       -0.6863002 , -0.47481593,  0.33787745, -3.002526  , -1.566104  ,\n",
       "       -0.90923285,  1.5709052 , -1.4958167 , -2.062923  , -1.5557505 ,\n",
       "        0.798923  ,  0.71638983, -1.9710233 ,  0.83104384,  0.93284655,\n",
       "       -1.5399776 ,  0.08883175, -0.7368261 ,  0.80477476, -1.0823696 ,\n",
       "       -1.6748545 , -1.7702042 ,  0.92265826,  1.6042262 , -1.9875891 ,\n",
       "       -0.4602296 , -1.5258312 , -1.4144254 , -1.8153275 , -1.1877234 ,\n",
       "       -1.8451042 ,  0.7513867 , -3.0829766 ,  1.8986567 , -0.86224854,\n",
       "       -0.84612453,  0.4431758 ,  3.4588318 ,  1.0194103 ,  0.7060127 ,\n",
       "        0.9791193 ,  0.22570309, -0.7940582 , -0.36241856,  0.50655955,\n",
       "        0.4882526 , -3.2900677 , -0.20828186,  0.38481295, -1.3440944 ,\n",
       "        0.9886637 , -1.6252785 ,  1.4794798 ,  0.26175046,  0.87602997,\n",
       "        2.354815  ,  1.8029058 ,  3.1995082 , -0.9646226 ,  0.27929136,\n",
       "       -0.2826818 , -1.4399389 ,  0.19343975, -0.6681565 ,  1.0724154 ,\n",
       "       -0.5219137 , -1.7880603 ,  1.4948747 ,  0.24052012, -0.5382438 ,\n",
       "        0.6276937 , -0.11534366,  0.40402874,  0.52817667, -1.008657  ,\n",
       "       -0.09211676,  0.3690913 , -3.3015635 , -0.54286194, -2.291909  ,\n",
       "       -0.2555013 ,  1.046138  , -1.3431693 ,  3.222497  , -0.8513563 ,\n",
       "       -1.5339053 , -0.23735707, -3.180794  ,  0.3636534 , -1.1558162 ,\n",
       "        1.3315622 ,  1.7326876 ,  0.89996666,  0.9533357 ,  0.9855172 ],\n",
       "      dtype=float32)"
      ]
     },
     "execution_count": 103,
     "metadata": {},
     "output_type": "execute_result"
    }
   ],
   "source": [
    "aapl_vec"
   ]
  },
  {
   "cell_type": "code",
   "execution_count": 105,
   "metadata": {
    "scrolled": true
   },
   "outputs": [
    {
     "name": "stderr",
     "output_type": "stream",
     "text": [
      "<ipython-input-105-5c56a95074f0>:1: DeprecationWarning: Call to deprecated `docvecs` (The `docvecs` property has been renamed `dv`.).\n",
      "  aapl_most_similar = model.docvecs.most_similar(aapl_vec, topn = 10)\n",
      "<ipython-input-105-5c56a95074f0>:2: DeprecationWarning: Call to deprecated `docvecs` (The `docvecs` property has been renamed `dv`.).\n",
      "  fb_most_similar = model.docvecs.most_similar(fb_vec, topn = 10)\n"
     ]
    },
    {
     "data": {
      "text/plain": [
       "[(11, 0.9756932258605957),\n",
       " (53, 0.7075507640838623),\n",
       " (1236, 0.6876292824745178),\n",
       " (1399, 0.6802329421043396),\n",
       " (1163, 0.6642958521842957),\n",
       " (408, 0.6569865345954895),\n",
       " (370, 0.6532212495803833),\n",
       " (245, 0.6501213312149048),\n",
       " (1612, 0.6480929851531982),\n",
       " (1278, 0.6179130673408508)]"
      ]
     },
     "execution_count": 105,
     "metadata": {},
     "output_type": "execute_result"
    }
   ],
   "source": [
    "aapl_most_similar = model.docvecs.most_similar(aapl_vec, topn = 10)\n",
    "fb_most_similar = model.docvecs.most_similar(fb_vec, topn = 10)\n",
    "aapl_most_similar"
   ]
  },
  {
   "cell_type": "code",
   "execution_count": 107,
   "metadata": {
    "scrolled": true
   },
   "outputs": [
    {
     "data": {
      "text/html": [
       "<div>\n",
       "<style scoped>\n",
       "    .dataframe tbody tr th:only-of-type {\n",
       "        vertical-align: middle;\n",
       "    }\n",
       "\n",
       "    .dataframe tbody tr th {\n",
       "        vertical-align: top;\n",
       "    }\n",
       "\n",
       "    .dataframe thead th {\n",
       "        text-align: right;\n",
       "    }\n",
       "</style>\n",
       "<table border=\"1\" class=\"dataframe\">\n",
       "  <thead>\n",
       "    <tr style=\"text-align: right;\">\n",
       "      <th></th>\n",
       "      <th>document</th>\n",
       "      <th>tic</th>\n",
       "    </tr>\n",
       "  </thead>\n",
       "  <tbody>\n",
       "    <tr>\n",
       "      <th>11</th>\n",
       "      <td>[Item, Risk, Factors, discussion, risk, factor...</td>\n",
       "      <td>AAPL</td>\n",
       "    </tr>\n",
       "    <tr>\n",
       "      <th>53</th>\n",
       "      <td>[Item, Risk, Factors, Company, number, risks, ...</td>\n",
       "      <td>ACU</td>\n",
       "    </tr>\n",
       "    <tr>\n",
       "      <th>1236</th>\n",
       "      <td>[ITEM, RISK, FACTORS, describes, risks, Compan...</td>\n",
       "      <td>FELE</td>\n",
       "    </tr>\n",
       "    <tr>\n",
       "      <th>1399</th>\n",
       "      <td>[ITEM, RISK, FACTORS, risks, cases, Company, r...</td>\n",
       "      <td>GPK</td>\n",
       "    </tr>\n",
       "    <tr>\n",
       "      <th>1163</th>\n",
       "      <td>[ITEM, RISK, FACTORS, Operating, results, chan...</td>\n",
       "      <td>ESCA</td>\n",
       "    </tr>\n",
       "    <tr>\n",
       "      <th>408</th>\n",
       "      <td>[ITEM, RISK, FACTORS, Investors, Company, secu...</td>\n",
       "      <td>BB</td>\n",
       "    </tr>\n",
       "    <tr>\n",
       "      <th>370</th>\n",
       "      <td>[Item, Risk, Factors, Forward, Statements, Ris...</td>\n",
       "      <td>AVT</td>\n",
       "    </tr>\n",
       "    <tr>\n",
       "      <th>245</th>\n",
       "      <td>[Item, Risk, Factors, Investors, risks, inform...</td>\n",
       "      <td>APH</td>\n",
       "    </tr>\n",
       "    <tr>\n",
       "      <th>1612</th>\n",
       "      <td>[Item, Risk, Factors, Company, DTX, AMS, techn...</td>\n",
       "      <td>IKNX</td>\n",
       "    </tr>\n",
       "    <tr>\n",
       "      <th>1278</th>\n",
       "      <td>[Item, Risk, Factors, Statements, Private, Sec...</td>\n",
       "      <td>FLWS</td>\n",
       "    </tr>\n",
       "  </tbody>\n",
       "</table>\n",
       "</div>"
      ],
      "text/plain": [
       "                                               document   tic\n",
       "11    [Item, Risk, Factors, discussion, risk, factor...  AAPL\n",
       "53    [Item, Risk, Factors, Company, number, risks, ...   ACU\n",
       "1236  [ITEM, RISK, FACTORS, describes, risks, Compan...  FELE\n",
       "1399  [ITEM, RISK, FACTORS, risks, cases, Company, r...   GPK\n",
       "1163  [ITEM, RISK, FACTORS, Operating, results, chan...  ESCA\n",
       "408   [ITEM, RISK, FACTORS, Investors, Company, secu...    BB\n",
       "370   [Item, Risk, Factors, Forward, Statements, Ris...   AVT\n",
       "245   [Item, Risk, Factors, Investors, risks, inform...   APH\n",
       "1612  [Item, Risk, Factors, Company, DTX, AMS, techn...  IKNX\n",
       "1278  [Item, Risk, Factors, Statements, Private, Sec...  FLWS"
      ]
     },
     "execution_count": 107,
     "metadata": {},
     "output_type": "execute_result"
    }
   ],
   "source": [
    "doc.iloc[[i[0] for i in aapl_most_similar], :]"
   ]
  },
  {
   "cell_type": "markdown",
   "metadata": {},
   "source": [
    "- **ACU: Acme United Corporation**\n",
    "\n",
    "Acme United Corporation is a supplier of cutting, measuring and safety products for the school, home, office, hardware and industrial markets.\n",
    "\n",
    "- **FELE: Franklin Electric**\n",
    "\n",
    "Franklin Electric is a manufacturer and distributor of products and systems focused on the movement and management of water and fuel. \n",
    "\n",
    "- **GPK: Graphic Packaging Holding Company**\n",
    "\n",
    "Graphic Packaging Holding Company operates as an integrated provider of paperboard and integrated paperboard packaging solutions to multinational beverage and consumer products companies. The Company manufactures folding cartons for frozen and non-frozen food and beverage products.\n",
    "\n",
    "- ..."
   ]
  },
  {
   "cell_type": "code",
   "execution_count": 106,
   "metadata": {},
   "outputs": [
    {
     "data": {
      "text/html": [
       "<div>\n",
       "<style scoped>\n",
       "    .dataframe tbody tr th:only-of-type {\n",
       "        vertical-align: middle;\n",
       "    }\n",
       "\n",
       "    .dataframe tbody tr th {\n",
       "        vertical-align: top;\n",
       "    }\n",
       "\n",
       "    .dataframe thead th {\n",
       "        text-align: right;\n",
       "    }\n",
       "</style>\n",
       "<table border=\"1\" class=\"dataframe\">\n",
       "  <thead>\n",
       "    <tr style=\"text-align: right;\">\n",
       "      <th></th>\n",
       "      <th>document</th>\n",
       "      <th>tic</th>\n",
       "    </tr>\n",
       "  </thead>\n",
       "  <tbody>\n",
       "    <tr>\n",
       "      <th>1232</th>\n",
       "      <td>[Item, Risk, Factors, Certain, factors, effect...</td>\n",
       "      <td>FB</td>\n",
       "    </tr>\n",
       "    <tr>\n",
       "      <th>966</th>\n",
       "      <td>[ITEM, RISK, FACTORS, Investing, Class, A, sto...</td>\n",
       "      <td>DBX</td>\n",
       "    </tr>\n",
       "    <tr>\n",
       "      <th>1075</th>\n",
       "      <td>[Item, Risk, Factors, A, description, risks, u...</td>\n",
       "      <td>EB</td>\n",
       "    </tr>\n",
       "    <tr>\n",
       "      <th>1187</th>\n",
       "      <td>[Item, Risk, Factors, securities, degree, risk...</td>\n",
       "      <td>ETSY</td>\n",
       "    </tr>\n",
       "    <tr>\n",
       "      <th>1403</th>\n",
       "      <td>[Item, Risk, Factors, risks, information, Annu...</td>\n",
       "      <td>GPRO</td>\n",
       "    </tr>\n",
       "    <tr>\n",
       "      <th>1272</th>\n",
       "      <td>[Item, Risk, Factors, business, condition, res...</td>\n",
       "      <td>FLNT</td>\n",
       "    </tr>\n",
       "    <tr>\n",
       "      <th>393</th>\n",
       "      <td>[Item, Risk, Factors, investment, Class, A, st...</td>\n",
       "      <td>AYX</td>\n",
       "    </tr>\n",
       "    <tr>\n",
       "      <th>700</th>\n",
       "      <td>[Item, Risk, Factors, Item, Unresolved, Staff,...</td>\n",
       "      <td>CHGG</td>\n",
       "    </tr>\n",
       "    <tr>\n",
       "      <th>1692</th>\n",
       "      <td>[ITEM, RISK, FACTORS, addition, information, r...</td>\n",
       "      <td>IZEA</td>\n",
       "    </tr>\n",
       "    <tr>\n",
       "      <th>1024</th>\n",
       "      <td>[Item, Risk, Factors, risk, factors, addition,...</td>\n",
       "      <td>DOMO</td>\n",
       "    </tr>\n",
       "  </tbody>\n",
       "</table>\n",
       "</div>"
      ],
      "text/plain": [
       "                                               document   tic\n",
       "1232  [Item, Risk, Factors, Certain, factors, effect...    FB\n",
       "966   [ITEM, RISK, FACTORS, Investing, Class, A, sto...   DBX\n",
       "1075  [Item, Risk, Factors, A, description, risks, u...    EB\n",
       "1187  [Item, Risk, Factors, securities, degree, risk...  ETSY\n",
       "1403  [Item, Risk, Factors, risks, information, Annu...  GPRO\n",
       "1272  [Item, Risk, Factors, business, condition, res...  FLNT\n",
       "393   [Item, Risk, Factors, investment, Class, A, st...   AYX\n",
       "700   [Item, Risk, Factors, Item, Unresolved, Staff,...  CHGG\n",
       "1692  [ITEM, RISK, FACTORS, addition, information, r...  IZEA\n",
       "1024  [Item, Risk, Factors, risk, factors, addition,...  DOMO"
      ]
     },
     "execution_count": 106,
     "metadata": {},
     "output_type": "execute_result"
    }
   ],
   "source": [
    "doc.iloc[[i[0] for i in fb_most_similar], :]"
   ]
  },
  {
   "cell_type": "markdown",
   "metadata": {},
   "source": [
    "- **DBX: Dropbox Inc.**\n",
    "\n",
    "Dropbox is a file hosting service operated by the American company Dropbox, Inc., headquartered in San Francisco, California, US that offers cloud storage, file synchronization, personal cloud, and client software.\n",
    "\n",
    "- **EB: Eventbrite Inc.**\n",
    "\n",
    "Eventbrite is an American event management and ticketing website. The service allows users to browse, create, and promote local events. The service charges a fee to event organizers in exchange for online ticketing services, unless the event is free.\n",
    "- **EB: Etsy Inc.**\n",
    "\n",
    "Etsy, Inc. is an American e-commerce company focused on handmade or vintage items and craft supplies.\n",
    "- ..."
   ]
  },
  {
   "cell_type": "code",
   "execution_count": 108,
   "metadata": {},
   "outputs": [],
   "source": [
    "# FB: Meta Platforms Inc."
   ]
  }
 ],
 "metadata": {
  "kernelspec": {
   "display_name": "Python 3",
   "language": "python",
   "name": "python3"
  },
  "language_info": {
   "codemirror_mode": {
    "name": "ipython",
    "version": 3
   },
   "file_extension": ".py",
   "mimetype": "text/x-python",
   "name": "python",
   "nbconvert_exporter": "python",
   "pygments_lexer": "ipython3",
   "version": "3.9.6"
  }
 },
 "nbformat": 4,
 "nbformat_minor": 4
}
